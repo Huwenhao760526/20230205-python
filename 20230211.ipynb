{
  "nbformat": 4,
  "nbformat_minor": 0,
  "metadata": {
    "colab": {
      "provenance": [],
      "authorship_tag": "ABX9TyPhd8KlcALGFjr/ca6kh4YE",
      "include_colab_link": true
    },
    "kernelspec": {
      "name": "python3",
      "display_name": "Python 3"
    },
    "language_info": {
      "name": "python"
    }
  },
  "cells": [
    {
      "cell_type": "markdown",
      "metadata": {
        "id": "view-in-github",
        "colab_type": "text"
      },
      "source": [
        "<a href=\"https://colab.research.google.com/github/Huwenhao760526/20230205-python/blob/main/20230211.ipynb\" target=\"_parent\"><img src=\"https://colab.research.google.com/assets/colab-badge.svg\" alt=\"Open In Colab\"/></a>"
      ]
    },
    {
      "cell_type": "markdown",
      "source": [
        "# 20230211筆記"
      ],
      "metadata": {
        "id": "3Jo-41-2MYTf"
      }
    },
    {
      "cell_type": "markdown",
      "source": [
        "# 基本資料型態\n",
        " \n",
        " * int(整數)\n",
        " * float(浮點數)\n",
        " * bool(布林變數)\n",
        " * str(字串:文字訊息)\n",
        "\n",
        " 使用'type(變數)'可以檢查變數裡面的資料型態"
      ],
      "metadata": {
        "id": "WSr_-GQEUGrI"
      }
    },
    {
      "cell_type": "markdown",
      "source": [
        "# 整數除法"
      ],
      "metadata": {
        "id": "zgtzNjhUU1jx"
      }
    },
    {
      "cell_type": "code",
      "execution_count": null,
      "metadata": {
        "id": "D25hbrx5MU2i"
      },
      "outputs": [],
      "source": [
        "X = 1"
      ]
    },
    {
      "cell_type": "code",
      "source": [
        "type(X)"
      ],
      "metadata": {
        "colab": {
          "base_uri": "https://localhost:8080/"
        },
        "id": "a92LMKwDWOgK",
        "outputId": "20a5a3b2-321c-48c2-ac16-970987180305"
      },
      "execution_count": null,
      "outputs": [
        {
          "output_type": "execute_result",
          "data": {
            "text/plain": [
              "int"
            ]
          },
          "metadata": {},
          "execution_count": 7
        }
      ]
    },
    {
      "cell_type": "code",
      "source": [
        "Y = 4/2"
      ],
      "metadata": {
        "id": "wjlbQXKNWf0k"
      },
      "execution_count": null,
      "outputs": []
    },
    {
      "cell_type": "code",
      "source": [
        "type(Y)"
      ],
      "metadata": {
        "colab": {
          "base_uri": "https://localhost:8080/"
        },
        "id": "Qwn5gfTuWknv",
        "outputId": "71d76c4f-22d7-4c30-d446-cd2034f4bb0a"
      },
      "execution_count": null,
      "outputs": [
        {
          "output_type": "execute_result",
          "data": {
            "text/plain": [
              "float"
            ]
          },
          "metadata": {},
          "execution_count": 10
        }
      ]
    },
    {
      "cell_type": "code",
      "source": [
        "Z = 4//2\n",
        "#無小數點的除法"
      ],
      "metadata": {
        "id": "cOW2_bK8Wubr"
      },
      "execution_count": null,
      "outputs": []
    },
    {
      "cell_type": "code",
      "source": [
        "type(Z)"
      ],
      "metadata": {
        "colab": {
          "base_uri": "https://localhost:8080/"
        },
        "id": "-uKzxb0bWytS",
        "outputId": "e0a995c0-d14e-4dac-f454-046f7c8fbd8c"
      },
      "execution_count": null,
      "outputs": [
        {
          "output_type": "execute_result",
          "data": {
            "text/plain": [
              "int"
            ]
          },
          "metadata": {},
          "execution_count": 42
        }
      ]
    },
    {
      "cell_type": "markdown",
      "source": [
        "## 次方(**)\n"
      ],
      "metadata": {
        "id": "Z6qiAuiyXFw8"
      }
    },
    {
      "cell_type": "code",
      "source": [
        "2**3"
      ],
      "metadata": {
        "colab": {
          "base_uri": "https://localhost:8080/"
        },
        "id": "y2HJoxQTXPGm",
        "outputId": "1e028cec-de67-4999-c905-ff32cb615345"
      },
      "execution_count": null,
      "outputs": [
        {
          "output_type": "execute_result",
          "data": {
            "text/plain": [
              "8"
            ]
          },
          "metadata": {},
          "execution_count": 16
        }
      ]
    },
    {
      "cell_type": "code",
      "source": [
        "2**4"
      ],
      "metadata": {
        "colab": {
          "base_uri": "https://localhost:8080/"
        },
        "id": "Dt6uWFjnXU6G",
        "outputId": "5eb04d8d-3aea-4455-de1d-43041f9c7dcb"
      },
      "execution_count": null,
      "outputs": [
        {
          "output_type": "execute_result",
          "data": {
            "text/plain": [
              "16"
            ]
          },
          "metadata": {},
          "execution_count": 15
        }
      ]
    },
    {
      "cell_type": "markdown",
      "source": [
        "## 甚麼是bool? (Ture or False)"
      ],
      "metadata": {
        "id": "0jPh8wKNXdJ2"
      }
    },
    {
      "cell_type": "code",
      "source": [
        "3 > 2"
      ],
      "metadata": {
        "colab": {
          "base_uri": "https://localhost:8080/"
        },
        "id": "3lhnHxV3XkjM",
        "outputId": "fc57725c-872a-4728-d150-c059e78c693d"
      },
      "execution_count": null,
      "outputs": [
        {
          "output_type": "execute_result",
          "data": {
            "text/plain": [
              "True"
            ]
          },
          "metadata": {},
          "execution_count": 18
        }
      ]
    },
    {
      "cell_type": "code",
      "source": [
        "True+True"
      ],
      "metadata": {
        "colab": {
          "base_uri": "https://localhost:8080/"
        },
        "id": "WaqdHG4dYAw1",
        "outputId": "eb8378a3-e90b-42e5-86ef-61e11357e4b0"
      },
      "execution_count": null,
      "outputs": [
        {
          "output_type": "execute_result",
          "data": {
            "text/plain": [
              "2"
            ]
          },
          "metadata": {},
          "execution_count": 21
        }
      ]
    },
    {
      "cell_type": "code",
      "source": [
        "True + False"
      ],
      "metadata": {
        "colab": {
          "base_uri": "https://localhost:8080/"
        },
        "id": "Nc2V2c83YLXa",
        "outputId": "7a90b261-223f-45c3-f736-f832823bc272"
      },
      "execution_count": null,
      "outputs": [
        {
          "output_type": "execute_result",
          "data": {
            "text/plain": [
              "1"
            ]
          },
          "metadata": {},
          "execution_count": 24
        }
      ]
    },
    {
      "cell_type": "code",
      "source": [
        "X==Z\n",
        "# 兩個值是否一樣"
      ],
      "metadata": {
        "colab": {
          "base_uri": "https://localhost:8080/"
        },
        "id": "g1Kdla-2Y0LX",
        "outputId": "9bf2c50e-3070-4230-d6e2-c9d13d27d09d"
      },
      "execution_count": null,
      "outputs": [
        {
          "output_type": "execute_result",
          "data": {
            "text/plain": [
              "False"
            ]
          },
          "metadata": {},
          "execution_count": 26
        }
      ]
    },
    {
      "cell_type": "markdown",
      "source": [
        "#關於字串\n"
      ],
      "metadata": {
        "id": "8taEc_HOZE2P"
      }
    },
    {
      "cell_type": "code",
      "source": [
        "W=\"DOG\"\n",
        "#字串要加\"\""
      ],
      "metadata": {
        "id": "2HGaiDCtZIxI"
      },
      "execution_count": null,
      "outputs": []
    },
    {
      "cell_type": "code",
      "source": [
        "U = \"It's my dog\""
      ],
      "metadata": {
        "id": "60vGr-80Zudp"
      },
      "execution_count": null,
      "outputs": []
    },
    {
      "cell_type": "code",
      "source": [
        "V = 'It\\'s fer dog'\n",
        "# \\是跳脫字元"
      ],
      "metadata": {
        "id": "-96W9u_6aIc7"
      },
      "execution_count": null,
      "outputs": []
    },
    {
      "cell_type": "markdown",
      "source": [
        "##字串的加法(+)和乘法(*)"
      ],
      "metadata": {
        "id": "jOaLt15YfUwr"
      }
    },
    {
      "cell_type": "code",
      "source": [
        "\"abc\"+\"123\""
      ],
      "metadata": {
        "colab": {
          "base_uri": "https://localhost:8080/",
          "height": 35
        },
        "id": "cAR9IB1PfZyU",
        "outputId": "aff6da22-4398-4f7c-8e91-2e28b6782f8d"
      },
      "execution_count": null,
      "outputs": [
        {
          "output_type": "execute_result",
          "data": {
            "text/plain": [
              "'abc123'"
            ],
            "application/vnd.google.colaboratory.intrinsic+json": {
              "type": "string"
            }
          },
          "metadata": {},
          "execution_count": 43
        }
      ]
    },
    {
      "cell_type": "code",
      "source": [
        "\"abc\"*3"
      ],
      "metadata": {
        "colab": {
          "base_uri": "https://localhost:8080/",
          "height": 35
        },
        "id": "g9DMQD6qfSHG",
        "outputId": "38c55da1-816b-40a6-bc38-32b3b7455c7e"
      },
      "execution_count": null,
      "outputs": [
        {
          "output_type": "execute_result",
          "data": {
            "text/plain": [
              "'abcabcabc'"
            ],
            "application/vnd.google.colaboratory.intrinsic+json": {
              "type": "string"
            }
          },
          "metadata": {},
          "execution_count": 44
        }
      ]
    },
    {
      "cell_type": "markdown",
      "source": [
        "##練習:(使用字串畫出以下的金字塔)\n",
        "\n",
        "*\n",
        "***\n",
        "*****\n",
        "*******\n",
        "*********"
      ],
      "metadata": {
        "id": "dLhka9yqfsIM"
      }
    },
    {
      "cell_type": "code",
      "source": [
        "for i in range(3):\n",
        "  print(\"程式區塊開始\")\n",
        "  print(i)\n",
        "  print(\"程式區塊結束\")"
      ],
      "metadata": {
        "colab": {
          "base_uri": "https://localhost:8080/"
        },
        "id": "ltRa_DHMgOOh",
        "outputId": "9437368c-3860-4dee-d5eb-b97d75d42eaf"
      },
      "execution_count": null,
      "outputs": [
        {
          "output_type": "stream",
          "name": "stdout",
          "text": [
            "程式區塊開始\n",
            "0\n",
            "程式區塊結束\n",
            "程式區塊開始\n",
            "1\n",
            "程式區塊結束\n",
            "程式區塊開始\n",
            "2\n",
            "程式區塊結束\n"
          ]
        }
      ]
    },
    {
      "cell_type": "code",
      "source": [
        "for i in range(3):\n",
        "  print(\"程式區塊開始\")\n",
        "  print(i)\n",
        "print(\"程式區塊結束\")"
      ],
      "metadata": {
        "colab": {
          "base_uri": "https://localhost:8080/"
        },
        "id": "0VCZpU90gxyc",
        "outputId": "0816fbca-8ae5-442e-d326-54c8e5842536"
      },
      "execution_count": null,
      "outputs": [
        {
          "output_type": "stream",
          "name": "stdout",
          "text": [
            "程式區塊開始\n",
            "0\n",
            "程式區塊開始\n",
            "1\n",
            "程式區塊開始\n",
            "2\n",
            "程式區塊結束\n"
          ]
        }
      ]
    },
    {
      "cell_type": "code",
      "source": [
        "for i in range(3):\n",
        "  print(\"程式區塊開始\")\n",
        "print(i)\n",
        "print(\"程式區塊結束\")"
      ],
      "metadata": {
        "colab": {
          "base_uri": "https://localhost:8080/"
        },
        "id": "6sygrjI4g4LC",
        "outputId": "83d7bc98-1bf2-456c-c845-3dac1f795f9a"
      },
      "execution_count": null,
      "outputs": [
        {
          "output_type": "stream",
          "name": "stdout",
          "text": [
            "程式區塊開始\n",
            "程式區塊開始\n",
            "程式區塊開始\n",
            "2\n",
            "程式區塊結束\n"
          ]
        }
      ]
    },
    {
      "cell_type": "code",
      "source": [
        "for i in range(5):\n",
        "  print(\"*\"*(2*i+1))"
      ],
      "metadata": {
        "colab": {
          "base_uri": "https://localhost:8080/"
        },
        "id": "nO9AyU7biens",
        "outputId": "fecadb91-aabd-4690-a651-61fa4ae62a60"
      },
      "execution_count": null,
      "outputs": [
        {
          "output_type": "stream",
          "name": "stdout",
          "text": [
            "*\n",
            "***\n",
            "*****\n",
            "*******\n",
            "*********\n"
          ]
        }
      ]
    },
    {
      "cell_type": "code",
      "source": [
        "for i in range(5):\n",
        "  print((\" \"*(4-i))+(\"*\"*(2*i+1))+(\" \"*(4-i)))"
      ],
      "metadata": {
        "colab": {
          "base_uri": "https://localhost:8080/"
        },
        "id": "ysHH3ST0mcFC",
        "outputId": "f99680be-cb9d-4e48-8d55-ce6649337f7e"
      },
      "execution_count": null,
      "outputs": [
        {
          "output_type": "stream",
          "name": "stdout",
          "text": [
            "    *    \n",
            "   ***   \n",
            "  *****  \n",
            " ******* \n",
            "*********\n"
          ]
        }
      ]
    },
    {
      "cell_type": "markdown",
      "source": [
        "# input()及print()\n",
        "input():用來讀取輸入\n",
        "print():用來打印輸出"
      ],
      "metadata": {
        "id": "rrgtye5Ik1S8"
      }
    },
    {
      "cell_type": "code",
      "source": [
        "x = input(\"請輸入一個數字\")"
      ],
      "metadata": {
        "colab": {
          "base_uri": "https://localhost:8080/"
        },
        "id": "pII-BDTfk9lZ",
        "outputId": "62363fc5-f7f4-4105-b7f5-0af251c2bf4b"
      },
      "execution_count": null,
      "outputs": [
        {
          "name": "stdout",
          "output_type": "stream",
          "text": [
            "請輸入一個數字100\n"
          ]
        }
      ]
    },
    {
      "cell_type": "code",
      "source": [
        "type(x)"
      ],
      "metadata": {
        "colab": {
          "base_uri": "https://localhost:8080/"
        },
        "id": "Jr4HxEfYlNMV",
        "outputId": "69c86405-a923-4f07-aa3e-f1c466e3d579"
      },
      "execution_count": null,
      "outputs": [
        {
          "output_type": "execute_result",
          "data": {
            "text/plain": [
              "str"
            ]
          },
          "metadata": {},
          "execution_count": 62
        }
      ]
    },
    {
      "cell_type": "code",
      "source": [
        "print(x)"
      ],
      "metadata": {
        "colab": {
          "base_uri": "https://localhost:8080/"
        },
        "id": "mzibbgCplv4h",
        "outputId": "ecdd7a51-3850-4684-dfdf-00707693011f"
      },
      "execution_count": null,
      "outputs": [
        {
          "output_type": "stream",
          "name": "stdout",
          "text": [
            "100\n"
          ]
        }
      ]
    },
    {
      "cell_type": "code",
      "source": [
        "x = 1\n",
        "y = 2\n",
        "z = 3\n",
        "print(1,2,3)"
      ],
      "metadata": {
        "colab": {
          "base_uri": "https://localhost:8080/"
        },
        "id": "3x3Citc5l3bT",
        "outputId": "099d4f2b-6a76-49ea-be65-19ed1e2a5031"
      },
      "execution_count": null,
      "outputs": [
        {
          "output_type": "stream",
          "name": "stdout",
          "text": [
            "1 2 3\n"
          ]
        }
      ]
    },
    {
      "cell_type": "code",
      "source": [
        "x = 1\n",
        "y = 2\n",
        "z = 3\n",
        "print(1,2,3,sep=\"\")"
      ],
      "metadata": {
        "colab": {
          "base_uri": "https://localhost:8080/"
        },
        "id": "LiroHG1HmDx4",
        "outputId": "ab2cdb7c-10af-4984-f1aa-18f60e4fa48a"
      },
      "execution_count": null,
      "outputs": [
        {
          "output_type": "stream",
          "name": "stdout",
          "text": [
            "123\n"
          ]
        }
      ]
    },
    {
      "cell_type": "code",
      "source": [
        "x = 1\n",
        "y = 2\n",
        "z = 3\n",
        "print(1,2,3,sep=\"+\")"
      ],
      "metadata": {
        "colab": {
          "base_uri": "https://localhost:8080/"
        },
        "id": "Fh-4kfguo1Vo",
        "outputId": "2a453ad4-63d2-4cca-a981-f50f5a708f3b"
      },
      "execution_count": null,
      "outputs": [
        {
          "output_type": "stream",
          "name": "stdout",
          "text": [
            "1+2+3\n"
          ]
        }
      ]
    },
    {
      "cell_type": "markdown",
      "source": [
        "#基礎容器型別\n",
        " * list\n",
        " * tuple\n",
        " * dict\n",
        " * set"
      ],
      "metadata": {
        "id": "Xza4k7Hwn6zm"
      }
    },
    {
      "cell_type": "markdown",
      "source": [
        "#list(串列)"
      ],
      "metadata": {
        "id": "h7mwWrL84yuY"
      }
    },
    {
      "cell_type": "code",
      "source": [
        "x=['a','b','c','d','e']"
      ],
      "metadata": {
        "id": "nAgOaD68okAT"
      },
      "execution_count": 80,
      "outputs": []
    },
    {
      "cell_type": "code",
      "source": [
        "y=list('abcde')"
      ],
      "metadata": {
        "id": "YewzAR925FZq"
      },
      "execution_count": 81,
      "outputs": []
    },
    {
      "cell_type": "code",
      "source": [
        "y"
      ],
      "metadata": {
        "colab": {
          "base_uri": "https://localhost:8080/"
        },
        "id": "2iiuJtW95MNX",
        "outputId": "020db548-ceb1-4124-9333-764879f6e47b"
      },
      "execution_count": 82,
      "outputs": [
        {
          "output_type": "execute_result",
          "data": {
            "text/plain": [
              "['a', 'b', 'c', 'd', 'e']"
            ]
          },
          "metadata": {},
          "execution_count": 82
        }
      ]
    },
    {
      "cell_type": "code",
      "source": [
        "x[0]"
      ],
      "metadata": {
        "colab": {
          "base_uri": "https://localhost:8080/",
          "height": 35
        },
        "id": "Z5kY07S_5Oq8",
        "outputId": "91dbb085-85cb-43aa-80b1-c0bc88d11b0d"
      },
      "execution_count": 83,
      "outputs": [
        {
          "output_type": "execute_result",
          "data": {
            "text/plain": [
              "'a'"
            ],
            "application/vnd.google.colaboratory.intrinsic+json": {
              "type": "string"
            }
          },
          "metadata": {},
          "execution_count": 83
        }
      ]
    },
    {
      "cell_type": "code",
      "source": [
        "len(x)\n",
        "#回傳字元數"
      ],
      "metadata": {
        "colab": {
          "base_uri": "https://localhost:8080/"
        },
        "id": "XXkAW9kU5WIA",
        "outputId": "b2cd4745-3f75-4f99-9938-ff21f4f3406c"
      },
      "execution_count": 94,
      "outputs": [
        {
          "output_type": "execute_result",
          "data": {
            "text/plain": [
              "5"
            ]
          },
          "metadata": {},
          "execution_count": 94
        }
      ]
    },
    {
      "cell_type": "code",
      "source": [
        "url = \"https://cdn.britannica.com/35/238335-050-2CB2EB8A/Lionel-Messi-Argentina-Netherlands-World-Cup-Qatar-2022.jpg\""
      ],
      "metadata": {
        "id": "JFBDdyEE5t4q"
      },
      "execution_count": 85,
      "outputs": []
    },
    {
      "cell_type": "code",
      "source": [
        "type(url)"
      ],
      "metadata": {
        "colab": {
          "base_uri": "https://localhost:8080/"
        },
        "id": "-7g2i7Kk6N1H",
        "outputId": "348f0fc4-9b20-46ff-98a9-bfc7329fe45d"
      },
      "execution_count": 86,
      "outputs": [
        {
          "output_type": "execute_result",
          "data": {
            "text/plain": [
              "str"
            ]
          },
          "metadata": {},
          "execution_count": 86
        }
      ]
    },
    {
      "cell_type": "code",
      "source": [
        "len(url)"
      ],
      "metadata": {
        "colab": {
          "base_uri": "https://localhost:8080/"
        },
        "id": "k37-8yVv6Ruh",
        "outputId": "7b6f19bb-e759-4a74-cad3-554cf9a2b922"
      },
      "execution_count": 87,
      "outputs": [
        {
          "output_type": "execute_result",
          "data": {
            "text/plain": [
              "109"
            ]
          },
          "metadata": {},
          "execution_count": 87
        }
      ]
    },
    {
      "cell_type": "code",
      "source": [
        "url.split('/')[5]"
      ],
      "metadata": {
        "colab": {
          "base_uri": "https://localhost:8080/",
          "height": 35
        },
        "id": "krl7XBag6Z5-",
        "outputId": "6d605a06-a9f2-4295-b2b9-3e9f030e350e"
      },
      "execution_count": 92,
      "outputs": [
        {
          "output_type": "execute_result",
          "data": {
            "text/plain": [
              "'Lionel-Messi-Argentina-Netherlands-World-Cup-Qatar-2022.jpg'"
            ],
            "application/vnd.google.colaboratory.intrinsic+json": {
              "type": "string"
            }
          },
          "metadata": {},
          "execution_count": 92
        }
      ]
    },
    {
      "cell_type": "code",
      "source": [
        "x[:3]"
      ],
      "metadata": {
        "colab": {
          "base_uri": "https://localhost:8080/"
        },
        "id": "ncX66tzH8BJj",
        "outputId": "33944eec-f267-4fad-9301-dcd89eade7f8"
      },
      "execution_count": 96,
      "outputs": [
        {
          "output_type": "execute_result",
          "data": {
            "text/plain": [
              "['a', 'b', 'c']"
            ]
          },
          "metadata": {},
          "execution_count": 96
        }
      ]
    },
    {
      "cell_type": "code",
      "source": [
        "x[1:3]"
      ],
      "metadata": {
        "colab": {
          "base_uri": "https://localhost:8080/"
        },
        "id": "6BLekz6C8K1l",
        "outputId": "3918aedb-a0d6-4334-d96a-6c80fb6002c4"
      },
      "execution_count": 97,
      "outputs": [
        {
          "output_type": "execute_result",
          "data": {
            "text/plain": [
              "['b', 'c']"
            ]
          },
          "metadata": {},
          "execution_count": 97
        }
      ]
    },
    {
      "cell_type": "code",
      "source": [
        "x[-1]"
      ],
      "metadata": {
        "colab": {
          "base_uri": "https://localhost:8080/",
          "height": 35
        },
        "id": "5_UcUXFQ8S3z",
        "outputId": "8c41964e-882e-47c0-c190-b6d6d5431107"
      },
      "execution_count": 98,
      "outputs": [
        {
          "output_type": "execute_result",
          "data": {
            "text/plain": [
              "'e'"
            ],
            "application/vnd.google.colaboratory.intrinsic+json": {
              "type": "string"
            }
          },
          "metadata": {},
          "execution_count": 98
        }
      ]
    },
    {
      "cell_type": "code",
      "source": [
        "x[-5]"
      ],
      "metadata": {
        "colab": {
          "base_uri": "https://localhost:8080/",
          "height": 35
        },
        "id": "YH3H2DuX8WH3",
        "outputId": "d305c808-595b-4a6f-d4e9-0e4eb2f42b12"
      },
      "execution_count": 100,
      "outputs": [
        {
          "output_type": "execute_result",
          "data": {
            "text/plain": [
              "'a'"
            ],
            "application/vnd.google.colaboratory.intrinsic+json": {
              "type": "string"
            }
          },
          "metadata": {},
          "execution_count": 100
        }
      ]
    },
    {
      "cell_type": "code",
      "source": [
        "x[3:]"
      ],
      "metadata": {
        "colab": {
          "base_uri": "https://localhost:8080/"
        },
        "id": "I4VEvH_88g2a",
        "outputId": "90d13392-7531-4439-c4e9-1a7ef0620fb2"
      },
      "execution_count": 101,
      "outputs": [
        {
          "output_type": "execute_result",
          "data": {
            "text/plain": [
              "['d', 'e']"
            ]
          },
          "metadata": {},
          "execution_count": 101
        }
      ]
    },
    {
      "cell_type": "markdown",
      "source": [
        "#dict(字典)"
      ],
      "metadata": {
        "id": "kvCqWzFh8oF5"
      }
    },
    {
      "cell_type": "code",
      "source": [
        "d={}\n",
        "#建立一個空字典"
      ],
      "metadata": {
        "id": "yspE_1vQ8sBv"
      },
      "execution_count": 102,
      "outputs": []
    },
    {
      "cell_type": "code",
      "source": [
        "type(d)"
      ],
      "metadata": {
        "colab": {
          "base_uri": "https://localhost:8080/"
        },
        "id": "41BvnTfc84uZ",
        "outputId": "0dc1ab07-2b33-448d-b5f1-89b27a2a0596"
      },
      "execution_count": 103,
      "outputs": [
        {
          "output_type": "execute_result",
          "data": {
            "text/plain": [
              "dict"
            ]
          },
          "metadata": {},
          "execution_count": 103
        }
      ]
    },
    {
      "cell_type": "code",
      "source": [
        "d['cat']='貓'\n",
        "#加入一筆資料"
      ],
      "metadata": {
        "id": "Mh35ISa98-Hg"
      },
      "execution_count": 104,
      "outputs": []
    },
    {
      "cell_type": "code",
      "source": [
        "d"
      ],
      "metadata": {
        "colab": {
          "base_uri": "https://localhost:8080/"
        },
        "id": "7aPB4zzo9IbQ",
        "outputId": "d2ce1024-b500-4f4a-f8c8-558d2e8190d3"
      },
      "execution_count": 105,
      "outputs": [
        {
          "output_type": "execute_result",
          "data": {
            "text/plain": [
              "{'cat': '貓'}"
            ]
          },
          "metadata": {},
          "execution_count": 105
        }
      ]
    },
    {
      "cell_type": "code",
      "source": [
        "d['dog']='狗'"
      ],
      "metadata": {
        "id": "2HodMPa79WYA"
      },
      "execution_count": 106,
      "outputs": []
    },
    {
      "cell_type": "code",
      "source": [
        "d"
      ],
      "metadata": {
        "colab": {
          "base_uri": "https://localhost:8080/"
        },
        "id": "x2VMYxey9boa",
        "outputId": "0b6cbafa-9c11-43cc-c113-8faea9657a94"
      },
      "execution_count": 107,
      "outputs": [
        {
          "output_type": "execute_result",
          "data": {
            "text/plain": [
              "{'cat': '貓', 'dog': '狗'}"
            ]
          },
          "metadata": {},
          "execution_count": 107
        }
      ]
    },
    {
      "cell_type": "code",
      "source": [
        "d['cat']"
      ],
      "metadata": {
        "colab": {
          "base_uri": "https://localhost:8080/",
          "height": 35
        },
        "id": "cw06o3VQ9kwd",
        "outputId": "1b828607-529c-49da-d531-faa5394eeeb4"
      },
      "execution_count": 110,
      "outputs": [
        {
          "output_type": "execute_result",
          "data": {
            "text/plain": [
              "'貓'"
            ],
            "application/vnd.google.colaboratory.intrinsic+json": {
              "type": "string"
            }
          },
          "metadata": {},
          "execution_count": 110
        }
      ]
    },
    {
      "cell_type": "markdown",
      "source": [
        "##for迴圈與list及dict合用"
      ],
      "metadata": {
        "id": "VBoydscy-yAB"
      }
    },
    {
      "cell_type": "code",
      "source": [
        "for i in range(5):\n",
        "  print(i)\n",
        "  "
      ],
      "metadata": {
        "colab": {
          "base_uri": "https://localhost:8080/"
        },
        "id": "g0U5O-Ec-4db",
        "outputId": "e65eb17a-73c0-4678-f7ea-fe356597b91e"
      },
      "execution_count": 113,
      "outputs": [
        {
          "output_type": "stream",
          "name": "stdout",
          "text": [
            "0\n",
            "1\n",
            "2\n",
            "3\n",
            "4\n"
          ]
        }
      ]
    },
    {
      "cell_type": "code",
      "source": [
        "for i in x:\n",
        "  print(i)"
      ],
      "metadata": {
        "colab": {
          "base_uri": "https://localhost:8080/"
        },
        "id": "BUvsOksF_V6P",
        "outputId": "4cc895a6-2272-47d4-ed9c-a62907f666ca"
      },
      "execution_count": 116,
      "outputs": [
        {
          "output_type": "stream",
          "name": "stdout",
          "text": [
            "a\n",
            "b\n",
            "c\n",
            "d\n",
            "e\n"
          ]
        }
      ]
    },
    {
      "cell_type": "code",
      "source": [
        "#for迴圈與字典合用\n",
        "for i in d:\n",
        "  print (i)"
      ],
      "metadata": {
        "colab": {
          "base_uri": "https://localhost:8080/"
        },
        "id": "ud1VKAN-_i6t",
        "outputId": "4653dcec-1789-4a00-e0ea-a0b3195ff6fd"
      },
      "execution_count": 117,
      "outputs": [
        {
          "output_type": "stream",
          "name": "stdout",
          "text": [
            "cat\n",
            "dog\n"
          ]
        }
      ]
    },
    {
      "cell_type": "code",
      "source": [
        "for i in d:\n",
        "  print(d[i])"
      ],
      "metadata": {
        "colab": {
          "base_uri": "https://localhost:8080/"
        },
        "id": "J51DrAhxALMC",
        "outputId": "106ba22f-7a11-4f69-af4d-3bf650fdf4ec"
      },
      "execution_count": 118,
      "outputs": [
        {
          "output_type": "stream",
          "name": "stdout",
          "text": [
            "貓\n",
            "狗\n"
          ]
        }
      ]
    },
    {
      "cell_type": "code",
      "source": [
        "for i in d:\n",
        "  print(i+\":\"+d[i])"
      ],
      "metadata": {
        "colab": {
          "base_uri": "https://localhost:8080/"
        },
        "id": "Ai1ummqXAV-P",
        "outputId": "16622473-67df-4941-c675-0c2caa734741"
      },
      "execution_count": 119,
      "outputs": [
        {
          "output_type": "stream",
          "name": "stdout",
          "text": [
            "cat:貓\n",
            "dog:狗\n"
          ]
        }
      ]
    },
    {
      "cell_type": "markdown",
      "source": [
        "#使用request抓取網路資料"
      ],
      "metadata": {
        "id": "SVfKbw6_Mrof"
      }
    },
    {
      "cell_type": "markdown",
      "source": [
        "##抓取網頁原始碼"
      ],
      "metadata": {
        "id": "tWOC1OKYNQYR"
      }
    },
    {
      "cell_type": "code",
      "source": [
        "url = \"https://icu.sinhuacu.org/modules/ugm_shcc/index.php?op=show_course&term_sn=40&sn=2240\""
      ],
      "metadata": {
        "id": "TAkJucm2MwF-"
      },
      "execution_count": 128,
      "outputs": []
    },
    {
      "cell_type": "code",
      "source": [
        "import requests\n",
        "#載入requests, 用來抓取網路上的資料"
      ],
      "metadata": {
        "id": "EyJrpNV0NfZB"
      },
      "execution_count": 130,
      "outputs": []
    },
    {
      "cell_type": "code",
      "source": [
        "r = requests.get(url)\n",
        "#取得特定網址的網頁原始碼,並將回傳的內容(包含headers)放入變數"
      ],
      "metadata": {
        "id": "gJRYsRFYNnh5"
      },
      "execution_count": 129,
      "outputs": []
    },
    {
      "cell_type": "code",
      "source": [
        "print(r.text)\n",
        "#印出回傳值中的.text的部分(及網頁原始碼)"
      ],
      "metadata": {
        "colab": {
          "base_uri": "https://localhost:8080/"
        },
        "id": "u8yTZn5DNtu9",
        "outputId": "97f3c7dd-9a2b-494a-aae1-9f482e17f5d5"
      },
      "execution_count": 131,
      "outputs": [
        {
          "output_type": "stream",
          "name": "stdout",
          "text": [
            "<!DOCTYPE html>\n",
            "<html lang=\"zh-TW\">\n",
            "<head>\n",
            "    <!--目前$_SESSION['bootstrap']=\"4\"; -->\n",
            "    <!--將目前的資料夾名稱，設定為樣板標籤變數 theme_name-->\n",
            "        <!--載入由使用者設定的各項佈景變數-->\n",
            "    \n",
            "    <meta charset=\"UTF-8\">\n",
            "<meta name=\"viewport\" content=\"width=device-width, initial-scale=1.0, shrink-to-fit=no\">\n",
            "<meta http-equiv=\"X-UA-Compatible\" content=\"ie=edge\">\n",
            "\n",
            "\n",
            "<meta name=\"robots\" content=\"index,follow\">\n",
            "<meta name=\"keywords\" content=\"\">\n",
            "<meta name=\"description\" content=\"\">\n",
            "<meta name=\"rating\" content=\"general\">\n",
            "<meta name=\"author\" content=\"XOOPS\">\n",
            "<meta name=\"copyright\" content=\"Copyright © 2001-2019\">\n",
            "<meta name=\"generator\" content=\"XOOPS\">\n",
            "  <meta property=\"og:title\" content=\"新化社區大學 - 校務管理系統\">\n",
            "\n",
            "<meta property=\"og:type\" content=\"website\">\n",
            "\n",
            "  <meta property=\"og:url\" content=\"https://icu.sinhuacu.org/modules/ugm_shcc/index.php?op=show_course&term_sn=40&sn=2240\">\n",
            "\n",
            "\n",
            "  <meta property=\"og:site_name\" content=\"新化社區大學\">\n",
            "\n",
            "\n",
            "\n",
            "    <!-- 網站的標題及標語 -->\n",
            "    <title>新化社區大學 - 校務管理系統</title>\n",
            "\n",
            "    \n",
            "<!-- Rss -->\n",
            "<link rel=\"alternate\" type=\"application/rss+xml\" title=\"RSS\" href=\"https://icu.sinhuacu.org/backend.php\">\n",
            "<!-- icon -->\n",
            "<link href=\"https://shcc.ugm.one/uploads/ugm_theme_2/system/bb246_18.png\" rel=\"SHORTCUT ICON\">\n",
            "<!-- Sheet Css -->\n",
            "<link rel=\"stylesheet\" type=\"text/css\" media=\"all\" title=\"Style sheet\" href=\"https://icu.sinhuacu.org/xoops.css\">\n",
            "<!-- XOOPS theme Sheet Css -->\n",
            "<link rel=\"stylesheet\" type=\"text/css\" media=\"all\" title=\"Style sheet\" href=\"https://icu.sinhuacu.org/themes/theme_2/css/xoops.css\">\n",
            "        <!-- mobile settings -->\n",
            "    <meta name=\"viewport\" content=\"width=device-width, maximum-scale=1, initial-scale=1, user-scalable=0\" />\n",
            "    <!--[if IE]><meta http-equiv='X-UA-Compatible' content='IE=edge,chrome=1'><![endif]-->\n",
            "\n",
            "    <!-- WEB FONTS : use %7C instead of | (pipe) -->\n",
            "    <link href=\"https://fonts.googleapis.com/css?family=Open+Sans:300,400,600%7CRaleway:300,400,500,600,700%7CLato:300,400,400italic,600,700\" rel=\"stylesheet\" type=\"text/css\" />\n",
            "\n",
            "    <!-- CORE CSS -->\n",
            "    <link href=\"https://icu.sinhuacu.org/themes/theme_2/assets/plugins/bootstrap/css/bootstrap.min.css\" rel=\"stylesheet\" type=\"text/css\" />\n",
            "    \n",
            "\n",
            "    <!-- THEME CSS -->\n",
            "    <link href=\"https://icu.sinhuacu.org/themes/theme_2/assets/css/essentials.css\" rel=\"stylesheet\" type=\"text/css\" />\n",
            "    <link href=\"https://icu.sinhuacu.org/themes/theme_2/assets/css/layout.css\" rel=\"stylesheet\" type=\"text/css\" />\n",
            "\n",
            "    <!-- PAGE LEVEL SCRIPTS -->\n",
            "    <link href=\"https://icu.sinhuacu.org/themes/theme_2/assets/css/header-1.css\" rel=\"stylesheet\" type=\"text/css\" />\n",
            "    <link href=\"https://icu.sinhuacu.org/themes/theme_2/assets/css/color_scheme/green.css\" rel=\"stylesheet\" type=\"text/css\" id=\"color_scheme\" />\n",
            "    <!-- CUSTOM CSS -->\n",
            "    <link href=\"https://icu.sinhuacu.org/themes/theme_2/css/custom.css\" rel=\"stylesheet\" type=\"text/css\" />\n",
            "\n",
            "    \n",
            "    <!-- 給模組套用的樣板標籤開始 -->\n",
            "    <script src=\"https://icu.sinhuacu.org/include/xoops.js\" type=\"text/javascript\"></script>\n",
            "<script type=\"text/javascript\" src=\"https://icu.sinhuacu.org/class/textsanitizer/image/image.js\"></script>\n",
            "<script src=\"https://icu.sinhuacu.org/browse.php?Frameworks/jquery/jquery.js\" type=\"text/javascript\"></script>\n",
            "<script src=\"https://icu.sinhuacu.org/browse.php?Frameworks/jquery/plugins/jquery.ui.js\" type=\"text/javascript\"></script>\n",
            "<link rel=\"stylesheet\" href=\"https://icu.sinhuacu.org/language/tchinese_utf8/style.css\" type=\"text/css\" />\n",
            "<link rel=\"stylesheet\" href=\"https://icu.sinhuacu.org/media/font-awesome/css/font-awesome.min.css\" type=\"text/css\" />\n",
            "<link rel=\"stylesheet\" href=\"https://icu.sinhuacu.org/modules/ugm_shcc/css/vtable.css\" type=\"text/css\" />\n",
            "<link rel=\"stylesheet\" href=\"https://icu.sinhuacu.org/modules/ugm_shcc/css/module.css\" type=\"text/css\" />\n",
            "<link rel=\"stylesheet\" href=\"https://icu.sinhuacu.org/modules/tadtools/jquery/themes/base/jquery.ui.all.css\" type=\"text/css\" />\n",
            "\n",
            "\n",
            "    <!-- 給模組套用的樣板標籤結束 -->\n",
            "    \n",
            "        <!-- JAVASCRIPT FILES -->\n",
            "    <script>var plugin_path = \"https://icu.sinhuacu.org/themes/theme_2/assets/plugins/\";</script>\n",
            "    <script src=\"https://icu.sinhuacu.org/themes/theme_2/assets/js/scripts.js\"></script>\n",
            "\n",
            "                  \n",
            "\n",
            "</head>\n",
            "\n",
            "<body class=\"smoothscroll enable-animation\">\n",
            "  <!-- SLIDE TOP -->\n",
            "  <div id=\"slidetop\">\n",
            "\n",
            "    <div class=\"container\">\n",
            "      \n",
            "      <div class=\"row\">\n",
            "\n",
            "        <div class=\"col-md-4\">\n",
            "          <h4 class=\"letter-spacing-1\">\n",
            "            Title1            \n",
            "                      </h4>\n",
            "          <div style=\"position: relative;\">\n",
            "            <ul class=\"footer-links list-unstyled\">\n",
            "                          </ul>\n",
            "                      </div>\n",
            "                  \n",
            "        </div>\n",
            "\n",
            "        <div class=\"col-md-4\">\n",
            "          <h4 class=\"letter-spacing-1\">\n",
            "            Title2                      </h4>\n",
            "          <div style=\"position: relative;\">\n",
            "            <ul class=\"footer-links list-unstyled\">\n",
            "                          </ul>\n",
            "              \n",
            "          </div>\n",
            "                  \n",
            "        </div>\n",
            "\n",
            "        <div class=\"col-md-4\">\n",
            "          <h4 class=\"letter-spacing-1\">\n",
            "            Title3           </h4>\n",
            "          <div style=\"position: relative;\">\n",
            "            <ul class=\"footer-links list-unstyled\">\n",
            "                          </ul>\n",
            "                      </div>\n",
            "                    \n",
            "        </div>\n",
            "\n",
            "      </div>\n",
            "\n",
            "    </div>\n",
            "\n",
            "    <a class=\"slidetop-toggle\" href=\"#\"><!-- toggle button --></a>\n",
            "\n",
            "  </div>\n",
            "  <!-- /SLIDE TOP -->\n",
            " \n",
            "  \n",
            "  \n",
            "  <!-- 主內容 -->\n",
            "  <div id=\"wrapper\">\n",
            "\n",
            "    <!-- Top Bar -->\n",
            "    <div id=\"topBar\" class=\"clearfix\">\n",
            "      <div class=\"container\">\n",
            "\n",
            "        <!-- right -->\n",
            "        <ul class=\"top-links list-inline float-right\">\n",
            "                      <li><a href=\"https://icu.sinhuacu.org/user.php\"><i class=\"fa fa-user hidden-xs-down\"></i> Login &nbsp;</a></li>\n",
            "              \n",
            "                  </ul>\n",
            "\n",
            "        <!-- left -->\n",
            "        <ul class=\"top-links list-inline\">\n",
            "          <li>\n",
            "            <a class=\"dropdown-toggle no-text-underline\" data-toggle=\"dropdown\" href=\"#\">Link</a>\n",
            "            <ul class=\"dropdown-langs dropdown-menu\">              \n",
            "                                        </ul>\n",
            "          </li>\n",
            "        </ul>\n",
            "\n",
            "      </div>\n",
            "    </div>\n",
            "    <!-- /Top Bar -->\n",
            "      <!-- \n",
            "        AVAILABLE HEADER CLASSES\n",
            "\n",
            "        Default nav height: 96px\n",
            "        .header-md    = 70px nav height\n",
            "        .header-sm    = 60px nav height\n",
            "\n",
            "        .b-0    = remove bottom border (only with transparent use)\n",
            "        .transparent  = transparent header\n",
            "        .translucent  = translucent header\n",
            "        .sticky     = sticky header\n",
            "        .static     = static header\n",
            "        .dark     = dark header\n",
            "        .bottom     = header on bottom\n",
            "        \n",
            "        shadow-before-1 = shadow 1 header top\n",
            "        shadow-after-1  = shadow 1 header bottom\n",
            "        shadow-before-2 = shadow 2 header top\n",
            "        shadow-after-2  = shadow 2 header bottom\n",
            "        shadow-before-3 = shadow 3 header top\n",
            "        shadow-after-3  = shadow 3 header bottom\n",
            "\n",
            "        .clearfix   = required for mobile menu, do not remove!\n",
            "\n",
            "        Example Usage:  class=\"clearfix sticky header-sm transparent b-0\"\n",
            "      -->\n",
            "        \r\n",
            "      <div id='header' class='navbar-toggleable-md sticky shadow-after-3 clearfix'>\r\n",
            "\r\n",
            "        <!-- TOP NAV -->\r\n",
            "        <header id='topNav'>\r\n",
            "          <div class='container'>\r\n",
            "\r\n",
            "            <!-- Mobile Menu Button -->\r\n",
            "            <button class='btn btn-mobile' data-toggle='collapse' data-target='.nav-main-collapse'>\r\n",
            "              <i class='fa fa-bars'></i>\r\n",
            "            </button>\r\n",
            "\r\n",
            "            <!-- BUTTONS -->\r\n",
            "            <ul class='float-right nav nav-pills nav-second-main'>\r\n",
            "                              <!-- SEARCH -->\r\n",
            "                <li class='search'>\r\n",
            "                  <a href='javascript:;'>\r\n",
            "                    <i class='fa fa-search'></i>\r\n",
            "                  </a>\r\n",
            "                  <div class='search-box'>\r\n",
            "                    <form action='https://icu.sinhuacu.org/search.php' method='get'>\r\n",
            "                      <div class='input-group'>\r\n",
            "                        <input type='text' name='query' placeholder='請輸入關鍵字' class='form-control' />\r\n",
            "                        <input type='hidden' name='action' value='results'>\r\n",
            "                        <span class='input-group-btn'>\r\n",
            "                          <button class='btn btn-primary' type='submit' style='height:36px !important;'>Search</button>\r\n",
            "                        </span>\r\n",
            "                      </div>\r\n",
            "                    </form>\r\n",
            "                  </div> \r\n",
            "                </li>\r\n",
            "                <!-- /SEARCH -->\r\n",
            "                          </ul>\r\n",
            "            <!-- /BUTTONS -->\r\n",
            "\r\n",
            "\r\n",
            "                        <a class='logo float-left' href='https://icu.sinhuacu.org/'>\r\n",
            "                              <img src='https://shcc.ugm.one/uploads/ugm_theme_2/system/dc830_1.png' alt='新化社區大學' />\r\n",
            "                          </a>\r\n",
            "\r\n",
            "            <!-- \r\n",
            "              Top Nav \r\n",
            "              \r\n",
            "              AVAILABLE CLASSES:\r\n",
            "              submenu-dark = dark sub menu\r\n",
            "            -->\r\n",
            "            <div class='navbar-collapse collapse float-left nav-main-collapse submenu-dark'>\r\n",
            "              <nav class='nav-main'>\r\n",
            "\r\n",
            "                <!--\r\n",
            "                  NOTE\r\n",
            "                  \r\n",
            "                  For a regular link, remove 'dropdown' class from LI tag and 'dropdown-toggle' class from the href.\r\n",
            "                  Direct Link Example: \r\n",
            "\r\n",
            "                  <li>\r\n",
            "                    <a href='#'>HOME</a>\r\n",
            "                  </li>\r\n",
            "                -->\r\n",
            "                <ul id='topMain' class='nav nav-pills nav-main'>\r\n",
            "                  \r\n",
            "                                                        \r\n",
            "                                          \r\n",
            "                </ul>\r\n",
            "\r\n",
            "              </nav>\r\n",
            "            </div>\r\n",
            "\r\n",
            "          </div>\r\n",
            "        </header>\r\n",
            "        <!-- /Top Nav -->\r\n",
            "\r\n",
            "      </div>\r\n",
            "                \n",
            "        <!-- \n",
            "          PAGE HEADER \n",
            "          \n",
            "          CLASSES:\n",
            "            .page-header-xs\t= 20px margins\n",
            "            .page-header-md\t= 50px margins\n",
            "            .page-header-lg\t= 80px margins\n",
            "            .page-header-xlg= 130px margins\n",
            "            .dark\t\t\t= dark page header\n",
            "  \n",
            "            .shadow-before-1 \t= shadow 1 header top\n",
            "            .shadow-after-1 \t= shadow 1 header bottom\n",
            "            .shadow-before-2 \t= shadow 2 header top\n",
            "            .shadow-after-2 \t= shadow 2 header bottom\n",
            "            .shadow-before-3 \t= shadow 3 header top\n",
            "            .shadow-after-3 \t= shadow 3 header bottom\n",
            "        -->\n",
            "        <section class=\"page-header page-header-xs\">\n",
            "          <div class=\"container\">\n",
            "            <h2 style=\"margin:0;\">新化社大校務系統</h2>\n",
            "          </div>\n",
            "        </section>\n",
            "        <!-- /PAGE HEADER -->\n",
            "        \n",
            "\n",
            "    <!-- /Top Bar -->\n",
            "    \n",
            "         \n",
            "    \n",
            "    <div class=\"container-fluid\">      \n",
            "\n",
            "                    <div class=\"row\">\n",
            "                    \n",
            "\t<div class=\"col-md-12\">\n",
            "\t    \n",
            "\t\n",
            "\t\t\t<div class=\"row xoopsContents block  box-border-top mb-60\">\n",
            "      <div class=\"col-md-12\">\n",
            "\t\t\t\t\r\n",
            "\t\t\t<!-- \r\n",
            "\t\t\t\tPAGE MENU \r\n",
            "\t\t\t\t\r\n",
            "\t\t\t\tAVAILABLE CLASSES:\r\n",
            "\t\t\t\t\t.page-menu-light\r\n",
            "\t\t\t\t\t.page-menu-dark\r\n",
            "\t\t\t\t\t.page-menu-transparent\r\n",
            "\t\t\t\t\t.page-menu-color\r\n",
            "\t\t\t\t\t\r\n",
            "\t\t\t\t\t.b-0 - optional - used for .page-menu-transparent\r\n",
            "\t\t\t-->\r\n",
            "\t\t\t<div id=\"page-menu\" class=\"page-menu-dark b-0\">\r\n",
            "\t\t\t\t<div class=\"container\">\r\n",
            "\r\n",
            "\t\t\t\t\t<nav class=\"float-right\"><!-- page menu -->\r\n",
            "\t\t\t\t\t\t<button id=\"page-menu-mobile\" class=\"fa fa-bars\"></button>\r\n",
            "\t\t\t\t\t\t<!-- \r\n",
            "\t\t\t\t\t\t\t.menu-scrollTo - for scrollto page menu / no external links \r\n",
            "\t\t\t\t\t\t-->\r\n",
            "\t\t\t\t\t\t<ul class=\"list-inline\">\r\n",
            "              <li class=\"active\"><a href=\"index.php\">回首頁</a></li>\r\n",
            "\t\t\t\t\t\t\t\r\n",
            "\t\t\t\t\t\t\t\t\t\t\t\t\t</ul>\r\n",
            "\t\t\t\t\t</nav><!-- /page menu -->\r\n",
            "\r\n",
            "\t\t\t\t</div>\r\n",
            "\t\t\t</div>\r\n",
            "\t\t\t<!-- /PAGE MENU -->  <!-- <dd class=\"col-sm-9 border-bottom offset-sm-3\"></dd> -->\r\n",
            "  \r\n",
            "  <div class=\"row\">\r\n",
            "    <div class=\"col-lg-10 col-md-10 col-sm-12 offset-lg-1 offset-md-1\">                \r\n",
            "      <h1 class=\"blog-post-title\" style=\"font-size: 30px;\">(202301A02)活水探尋~源之旅</h1>\r\n",
            "      <ul class=\"blog-post-info list-inline\">\r\n",
            "        <!-- <li>\r\n",
            "          <i class=\"fa fa-clock-o\"></i> \r\n",
            "          <span class=\"font-lato\"></span>\r\n",
            "        </li> -->\r\n",
            "        <li>\r\n",
            "          <i class=\"fa fa-user-o\"></i> \r\n",
            "          <span class=\"font-lato\">選課人數：20</span>\r\n",
            "        </li>\r\n",
            "              </ul>\r\n",
            "    </div>\r\n",
            "  </div>\r\n",
            "  \r\n",
            "    \r\n",
            "  <div class=\"row\">\r\n",
            "    <div class=\"col-lg-10 col-md-10 col-sm-12 offset-lg-1 offset-md-1\"> \r\n",
            "\r\n",
            "      <dl class=\"row dl-horizontal\">\r\n",
            "        <dt class=\"col-sm-2\">課程項目：</dt>\r\n",
            "        <dd class=\"col-sm-6 border-bottom\">淺山生活</dd>\r\n",
            "      \r\n",
            "        <dt class=\"col-sm-2\">學分數：</dt>\r\n",
            "        <dd class=\"col-sm-2 border-bottom\">\r\n",
            "          1<br>\r\n",
            "          <span class=\"required\">※每學分18小時</span>\r\n",
            "        </dd>\r\n",
            "      \r\n",
            "        <dt class=\"col-sm-2\">授課講師：</dt>\r\n",
            "        <dd class=\"col-sm-6 border-bottom\">林瑞崑</dd>\r\n",
            "      \r\n",
            "        <dt class=\"col-sm-2\">招生人數：</dt>\r\n",
            "        <dd class=\"col-sm-2 border-bottom\">20</dd>\r\n",
            "      \r\n",
            "        <dt class=\"col-sm-2\">講師簡介：</dt>\r\n",
            "        <dd class=\"col-sm-10 border-bottom\">林瑞崑：生態教育講師，擅長溪流環境、植物、昆蟲等解說\r\n",
            "沈彩芳：生態教育講師，擅長溪流生態、蜘蛛、蛙類等解說\r\n",
            "自來水公司講師：淨水廠、南化水庫大壩、排砂隧道導覽解說</dd>\r\n",
            "\r\n",
            "        <dt class=\"col-sm-2\">上課時間：</dt>\r\n",
            "        <dd class=\"col-sm-4 border-bottom\">\r\n",
            "          週(六) 09:00-16:00<br>\r\n",
            "          (第一次上課日期：2023-02-13)\r\n",
            "        </dd>\r\n",
            "        \r\n",
            "        <dt class=\"col-sm-2\">課程地點：</dt>\r\n",
            "        <dd class=\"col-sm-4 border-bottom\">\r\n",
            "          跨區域<br>              \r\n",
            "          <br>              \r\n",
            "          \r\n",
            "        </dd>\r\n",
            "\r\n",
            "        <dt class=\"col-sm-2\">費用：</dt>\r\n",
            "        <dd class=\"col-sm-4 border-bottom\">\r\n",
            "          學分費用：1000<br>\r\n",
            "                                          \r\n",
            "        </dd>\r\n",
            "\r\n",
            "        <dt class=\"col-sm-2\">教材費用：</dt>\r\n",
            "        <dd class=\"col-sm-4 border-bottom\">490</dd>\r\n",
            "\r\n",
            "        <dt class=\"col-sm-2\">課程簡介：</dt>\r\n",
            "        <dd class=\"col-sm-10 border-bottom\">1、南化區北寮里自來水給水廠實踏參訪教學。<br>2、南化水庫運作與維護實踏參訪及水資源困境認識。<br>3、南化水庫集水區水源探尋：溪流生態生態認識與保育推廣，土石流對水資源與環境生態的影響。<br>4、生態探秘：螢火蟲、蛙類、蜘蛛、昆蟲實地觀察與解說，認識生物與生物、生物與人及人與環境之間互相影響關係。</dd>\r\n",
            "        \r\n",
            "        <dt class=\"col-sm-2\">授課方式：</dt>\r\n",
            "        <dd class=\"col-sm-10 border-bottom\">講授教學、戶外參訪</dd>\r\n",
            "\r\n",
            "        <dt class=\"col-sm-2\">修課條件：</dt>\r\n",
            "        <dd class=\"col-sm-10 border-bottom\">\r\n",
            "          <span class=\"required\">※修課年齡層為: 18 歲以上</span> <br>\r\n",
            "          戶外課程需交通自理。\r\n",
            "        </dd>\r\n",
            "\r\n",
            "        <dt class=\"col-sm-2\">教學目標：</dt>\r\n",
            "        <dd class=\"col-sm-10 border-bottom\">(一) 藉由各項踏查活動讓學員認識水資源保育在生活環境中的重要性。<br>(二) 能了解溪流生態作為環境指標的重要性，進行保育推廣的必要性｡<br>(三) 能明瞭在日益嚴峻的極端氣候下，水資源與環境生態面臨的挑戰。<br>(四) 能關注臺灣的水資源危機，並能積極探討落實珍惜水資源的作為。<br>(五) 透過生物棲地的踏查，理解生物、人與環境之間的相互依存關係。</dd>\r\n",
            "\r\n",
            "        <dt class=\"col-sm-2\">\r\n",
            "          與社大理念、<br>\r\n",
            "          發展之連結性：\r\n",
            "        </dt>\r\n",
            "        <dd class=\"col-sm-10 border-bottom\">以大自然為師的學習，藉由實地踏查與參訪，瞭解自家水龍頭流出的自來水來自何方；認識南化水庫上游的社區的文化特色與生態環境特點；關注水資源困境並理解珍惜水資源是刻不容緩的議題；在與環境、生態的互動中，探索自身與自然之間的依存關係。</dd>\r\n",
            "        \r\n",
            "        <dt class=\"col-sm-2\">學習評量方式：</dt>\r\n",
            "        <dd class=\"col-sm-10 border-bottom\">學習狀態</dd>\r\n",
            "\r\n",
            "        <dt class=\"col-sm-2\">參考書籍：</dt>\r\n",
            "        <dd class=\"col-sm-10 border-bottom\">無</dd>\r\n",
            "\r\n",
            "      </dl>\r\n",
            "      \r\n",
            "      <h2 class=\"blog-post-title\">課程主題&內容</h2>\r\n",
            "      <div class=\"vtable\">\r\n",
            "        <ul class=\"vhead\">\r\n",
            "            <li class=\"w2\">日期</li>\r\n",
            "            <li class=\"w2\">課程主題</li>\r\n",
            "            <li class=\"w5\">課程內容</li>\r\n",
            "            <li class=\"w1\">授課講師</li>\r\n",
            "        </ul>\r\n",
            "        <!-- \r\n",
            "          //sn\tcourse_sn\tcourse_date\tcourse_time_sn\tplace\tmaterials_sn\ttitle\tcontent\tsort\tcourse_time_title\tmaterials_title \r\n",
            "        -->\r\n",
            "                  <ul>\r\n",
            "            <li class=\"vcell text-center\">第 1 次課程</li>\r\n",
            "\r\n",
            "            <li class=\"vm text-center\" style=\"vertical-align:top;\">\r\n",
            "              <a name=\"w1\">第 1 次</a>\r\n",
            "              <span style=\"color:#cc0033;\">2023-03-11</span>\r\n",
            "              <div style=\"color:#666699;\">\r\n",
            "                （六）09:00-16:00\r\n",
            "              </div>\r\n",
            "                \r\n",
            "            </li>\r\n",
            "\r\n",
            "            <li class=\"vm\" style=\"font-weight:bold;vertical-align:top;\">\r\n",
            "              北寮淨水廠、南化水庫與排砂隧道參訪\r\n",
            "            </li>\r\n",
            "\r\n",
            "            <li class=\"vm\" style=\"line-height:180%;vertical-align:top;\">\r\n",
            "              09:00-16:00 (午餐自理)<br>*自來水公司南化區北寮淨水廠：簡介(室內課：1hr)+廠區運作實務參訪(戶外課：1hr)<br>*南化水庫：運作實務參訪(室外課：1hr)+午餐時間<br>*南化水庫排砂隧道：運作實務參訪(戶外課：1hr)+源之旅生態公園生態踏查(戶外課：2hr)<br><br>講師：林瑞崑、自來水公司講師<br>集合地點：自來水公司南化區北寮淨水廠<br>\r\n",
            "            </li>\r\n",
            "\r\n",
            "            <li class=\"vm text-center\">\r\n",
            "              林瑞崑\r\n",
            "            </li>\r\n",
            "\r\n",
            "          </ul>\r\n",
            "                  <ul>\r\n",
            "            <li class=\"vcell text-center\">第 2 次課程</li>\r\n",
            "\r\n",
            "            <li class=\"vm text-center\" style=\"vertical-align:top;\">\r\n",
            "              <a name=\"w2\">第 2 次</a>\r\n",
            "              <span style=\"color:#cc0033;\">2023-03-18</span>\r\n",
            "              <div style=\"color:#666699;\">\r\n",
            "                （六）09:00-16:00\r\n",
            "              </div>\r\n",
            "                \r\n",
            "            </li>\r\n",
            "\r\n",
            "            <li class=\"vm\" style=\"font-weight:bold;vertical-align:top;\">\r\n",
            "              南化水庫集水區水源探尋\r\n",
            "            </li>\r\n",
            "\r\n",
            "            <li class=\"vm\" style=\"line-height:180%;vertical-align:top;\">\r\n",
            "              09:00-16:00 (午餐自理)<br>*南化水庫集水區水源探尋：  認識溪流生態與保育推廣，了解土石流對水資源與環境生態的影響。(戶外課：6hr)<br><br>講師:林瑞崑、沈彩芳<br>集合地點：08:30南化玉山國小集合，預計15:00前會從上課地點離開<br>\r\n",
            "            </li>\r\n",
            "\r\n",
            "            <li class=\"vm text-center\">\r\n",
            "              林瑞崑\r\n",
            "            </li>\r\n",
            "\r\n",
            "          </ul>\r\n",
            "                  <ul>\r\n",
            "            <li class=\"vcell text-center\">第 3 次課程</li>\r\n",
            "\r\n",
            "            <li class=\"vm text-center\" style=\"vertical-align:top;\">\r\n",
            "              <a name=\"w3\">第 3 次</a>\r\n",
            "              <span style=\"color:#cc0033;\">2023-04-15</span>\r\n",
            "              <div style=\"color:#666699;\">\r\n",
            "                （六）09:00-16:00\r\n",
            "              </div>\r\n",
            "                \r\n",
            "            </li>\r\n",
            "\r\n",
            "            <li class=\"vm\" style=\"font-weight:bold;vertical-align:top;\">\r\n",
            "              三縣界三角點&螢火蟲生態探秘\r\n",
            "            </li>\r\n",
            "\r\n",
            "            <li class=\"vm\" style=\"line-height:180%;vertical-align:top;\">\r\n",
            "              14:00-20:00 (晚餐自理/或社區自製肉粽)<br>*三縣界三角點：台南、高雄、嘉義交界點，海拔957公尺，為南化水庫上游與高雄楠梓仙溪的分水嶺<br>*螢火蟲生態解說：(戶外課：1hr) <br>*生態探秘：螢火蟲、蛙類、蜘蛛、昆蟲、植物實地觀察與解說，認識生物與生物、生物與人及人與環境之間互相影響關係。(戶外課：5hr)<br><br>講師：林瑞崑、沈彩芳<br>集合地點：14:00瑞峰國小集合，會搭乘接駁車至三縣界下車點，預計19:30下山，20:30到瑞峰國小<br>\r\n",
            "            </li>\r\n",
            "\r\n",
            "            <li class=\"vm text-center\">\r\n",
            "              林瑞崑\r\n",
            "            </li>\r\n",
            "\r\n",
            "          </ul>\r\n",
            "              </div>\r\n",
            "      <div class=\"divider\"><!-- divider --></div>\r\n",
            "            <h2 class=\"blog-post-title\">教材費用明細</h2>\r\n",
            "      <div class=\"vtable\">\r\n",
            "        <ul class=\"vhead\">\r\n",
            "            <li class=\"w3\">品名</li>\r\n",
            "            <li class=\"w1 text-right\">單價</li>\r\n",
            "            <li class=\"w1 text-right\">數量</li>\r\n",
            "            <li class=\"w1 text-right\">小計</li>\r\n",
            "            <li class=\"w4\">說明</li>\r\n",
            "        </ul>\r\n",
            "                  <ul>\r\n",
            "            <li class=\"vcell text-center\">第 1 筆教材費</li>\r\n",
            "\r\n",
            "            <li class=\"vm text-center\" style=\"vertical-align:top;\">\r\n",
            "              <span class='vcell'>品名：</span>保險  \r\n",
            "            </li>\r\n",
            "\r\n",
            "            <li class=\"vm text-right\" style=\"font-weight:bold;vertical-align:top;\">\r\n",
            "              <span class='vcell'>單價：</span>50\r\n",
            "            </li>\r\n",
            "\r\n",
            "            <li class=\"vm text-right\" style=\"line-height:180%;vertical-align:top;\">\r\n",
            "              <span class='vcell'>數量：</span>3\r\n",
            "            </li>\r\n",
            "\r\n",
            "            <li class=\"vm text-right\" style=\"line-height:180%;vertical-align:top;\">\r\n",
            "              <span class='vcell'>小計：</span>150\r\n",
            "            </li>\r\n",
            "\r\n",
            "            <li class=\"vm text-center\">\r\n",
            "              <span class='vcell'>說明：</span>\r\n",
            "            </li>\r\n",
            "\r\n",
            "          </ul>\r\n",
            "                  <ul>\r\n",
            "            <li class=\"vcell text-center\">第 2 筆教材費</li>\r\n",
            "\r\n",
            "            <li class=\"vm text-center\" style=\"vertical-align:top;\">\r\n",
            "              <span class='vcell'>品名：</span>接駁費用  \r\n",
            "            </li>\r\n",
            "\r\n",
            "            <li class=\"vm text-right\" style=\"font-weight:bold;vertical-align:top;\">\r\n",
            "              <span class='vcell'>單價：</span>300\r\n",
            "            </li>\r\n",
            "\r\n",
            "            <li class=\"vm text-right\" style=\"line-height:180%;vertical-align:top;\">\r\n",
            "              <span class='vcell'>數量：</span>1\r\n",
            "            </li>\r\n",
            "\r\n",
            "            <li class=\"vm text-right\" style=\"line-height:180%;vertical-align:top;\">\r\n",
            "              <span class='vcell'>小計：</span>300\r\n",
            "            </li>\r\n",
            "\r\n",
            "            <li class=\"vm text-center\">\r\n",
            "              <span class='vcell'>說明：</span>第三周需搭乘接駁車至三縣界三角點\r\n",
            "            </li>\r\n",
            "\r\n",
            "          </ul>\r\n",
            "                  <ul>\r\n",
            "            <li class=\"vcell text-center\">第 3 筆教材費</li>\r\n",
            "\r\n",
            "            <li class=\"vm text-center\" style=\"vertical-align:top;\">\r\n",
            "              <span class='vcell'>品名：</span>社區肉粽 (第三周晚餐，可自備)  \r\n",
            "            </li>\r\n",
            "\r\n",
            "            <li class=\"vm text-right\" style=\"font-weight:bold;vertical-align:top;\">\r\n",
            "              <span class='vcell'>單價：</span>40\r\n",
            "            </li>\r\n",
            "\r\n",
            "            <li class=\"vm text-right\" style=\"line-height:180%;vertical-align:top;\">\r\n",
            "              <span class='vcell'>數量：</span>1\r\n",
            "            </li>\r\n",
            "\r\n",
            "            <li class=\"vm text-right\" style=\"line-height:180%;vertical-align:top;\">\r\n",
            "              <span class='vcell'>小計：</span>40\r\n",
            "            </li>\r\n",
            "\r\n",
            "            <li class=\"vm text-center\">\r\n",
            "              <span class='vcell'>說明：</span>\r\n",
            "            </li>\r\n",
            "\r\n",
            "          </ul>\r\n",
            "                <ul>\r\n",
            "          <li class=\"vcell text-center\">合計教材費</li>\r\n",
            "\r\n",
            "          <li class=\"vm text-center\" style=\"vertical-align:top;\">\r\n",
            "            \r\n",
            "          </li>\r\n",
            "\r\n",
            "          <li class=\"vm text-right\" style=\"font-weight:bold;vertical-align:top;\">\r\n",
            "            \r\n",
            "          </li>\r\n",
            "\r\n",
            "          <li class=\"vm text-right\" style=\"line-height:180%;vertical-align:top;\">\r\n",
            "            合計\r\n",
            "          </li>\r\n",
            "\r\n",
            "          <li class=\"vm text-right\" style=\"line-height:180%;vertical-align:top;\">\r\n",
            "            490\r\n",
            "          </li>\r\n",
            "\r\n",
            "          <li class=\"vm text-center\">\r\n",
            "            \r\n",
            "          </li>\r\n",
            "\r\n",
            "        </ul>\r\n",
            "      </div>\r\n",
            "      <div class=\"divider divider-dotted\"><!-- divider --></div>\r\n",
            "    </div>\r\n",
            "  </div>\r\n",
            "\n",
            "\t\t\t</div>\n",
            "\t</div>    \n",
            "\n",
            "    </div>          \n",
            "                        \n",
            "        </div><!--//page-row-->\n",
            "            \n",
            "             \n",
            "\n",
            "    </div>\n",
            "    \n",
            "            \n",
            "    <footer id=\"footer\">\n",
            "      <div class=\"container\">\n",
            "        <div class=\"row\">\n",
            "          <div class=\"col-md-3\">\n",
            "            <h4 class=\"letter-spacing-1\">\n",
            "              Title1                             \n",
            "                          </h4>\n",
            "            <!-- Contact Address -->\n",
            "            <address>\n",
            "              <ul class=\"list-unstyled\">\n",
            "                <li class=\"footer-sprite address\" style=\"color: rgba(255,255,255,0.6);position: relative;\">\n",
            "                                                                 \n",
            "                                  </li>\n",
            "                <li class=\"footer-sprite phone\" style=\"color: rgba(255,255,255,0.6);position: relative;\">\n",
            "                                                    </li>\n",
            "                <li class=\"footer-sprite email\" style=\"color: rgba(255,255,255,0.6);position: relative;\">\n",
            "                                                                  \n",
            "                </li>\n",
            "              </ul>\n",
            "            </address>\n",
            "            <!-- /Contact Address -->\n",
            "       \n",
            "          </div>\n",
            "          <div class=\"col-md-3\">\n",
            "            <h4 class=\"letter-spacing-1\">\n",
            "              Title2               \n",
            "                          </h4>\n",
            "            <div style=\"position: relative;\">\n",
            "              <ul class=\"footer-links list-unstyled\">\n",
            "                              </ul>\n",
            "                          </div>        \n",
            "          </div>\n",
            "          <div class=\"col-md-3\">\n",
            "            <h4 class=\"letter-spacing-1\">\n",
            "              Title3               \n",
            "                          </h4>\n",
            "            <div style=\"position: relative;\">\n",
            "              <ul class=\"footer-links list-unstyled\">\n",
            "                              </ul> \n",
            "                          </div>          \n",
            "          </div>\n",
            "          <div class=\"col-md-3\">\n",
            "            <h4 class=\"letter-spacing-1\">\n",
            "              Title4                             \n",
            "                          </h4>\n",
            "            <div style=\"position: relative;\">\n",
            "                              <ul class=\"footer-links list-unstyled\">\n",
            "                                  </ul>\n",
            "                   \n",
            "                          </div>\n",
            "                   \n",
            "          </div>\n",
            "        </div>\n",
            "\n",
            "      </div>\n",
            "      <div class=\"copyright\">\n",
            "        <div class=\"container\">\n",
            "          <ul class=\"float-right m-0 list-inline mobile-block\">\n",
            "            <li><a href=\"https://www.ugm.com.tw\" target=\"_blank\">佈景設計：育將電腦工作室</a></li>\n",
            "          </ul>\n",
            "          &copy; All Rights Reserved, 新化社區大學\n",
            "        </div>\n",
            "      </div>\n",
            "    </footer><!--default footer end here-->\n",
            "\n",
            "\n",
            "  </div>\n",
            "\n",
            "  <!-- 主內容 end -->\n",
            "\n",
            "\n",
            "  \n",
            "  <!-- SCROLL TO TOP -->\n",
            "  <a href=\"#\" id=\"toTop\"></a>\n",
            "\n",
            "    \n",
            "</body>\n",
            "</html>\n"
          ]
        }
      ]
    },
    {
      "cell_type": "markdown",
      "source": [
        "#使用requests呼叫web API,寫一個中文字典\n",
        " \n",
        " 萌典API:https://giyhub.com/g0v/moedict-webkit\n",
        "\n",
        " API:Application Programming Interface\n",
        "\n",
        " API是一個提供給應用程式(Application)使用程式(Program)來存取特定服務的介面(Interface)\n",
        "\n"
      ],
      "metadata": {
        "id": "OKf8b677PNaL"
      }
    },
    {
      "cell_type": "markdown",
      "source": [
        "#方法一"
      ],
      "metadata": {
        "id": "zYlfvCw4QxX8"
      }
    },
    {
      "cell_type": "markdown",
      "source": [
        "###抓取資料\n"
      ],
      "metadata": {
        "id": "J9tt2EknUpzE"
      }
    },
    {
      "cell_type": "code",
      "source": [
        "import json"
      ],
      "metadata": {
        "id": "HFoFHixnRgWF"
      },
      "execution_count": 135,
      "outputs": []
    },
    {
      "cell_type": "code",
      "source": [
        "q=\"教室\""
      ],
      "metadata": {
        "id": "N52eOMs1RYGs"
      },
      "execution_count": 136,
      "outputs": []
    },
    {
      "cell_type": "code",
      "source": [
        "url = \"https://www.moedict.tw/uni/\"+ q"
      ],
      "metadata": {
        "id": "T5U7KfWZO-z4"
      },
      "execution_count": 137,
      "outputs": []
    },
    {
      "cell_type": "code",
      "source": [
        "url"
      ],
      "metadata": {
        "colab": {
          "base_uri": "https://localhost:8080/",
          "height": 35
        },
        "id": "jlJdAjNZRsGY",
        "outputId": "32aeae1f-c090-4f6c-b606-e0a2e4345c89"
      },
      "execution_count": 168,
      "outputs": [
        {
          "output_type": "execute_result",
          "data": {
            "text/plain": [
              "'https://www.moedict.tw/uni/教室'"
            ],
            "application/vnd.google.colaboratory.intrinsic+json": {
              "type": "string"
            }
          },
          "metadata": {},
          "execution_count": 168
        }
      ]
    },
    {
      "cell_type": "code",
      "source": [
        "r=requests.get(url)"
      ],
      "metadata": {
        "id": "YNkr4H6mRx5N"
      },
      "execution_count": 139,
      "outputs": []
    },
    {
      "cell_type": "code",
      "source": [
        "print(r.text)"
      ],
      "metadata": {
        "colab": {
          "base_uri": "https://localhost:8080/"
        },
        "id": "cfamMVrnR3Nq",
        "outputId": "0a196c3b-f2d4-4bd4-866c-833741f30b44"
      },
      "execution_count": 140,
      "outputs": [
        {
          "output_type": "stream",
          "name": "stdout",
          "text": [
            "\t{\n",
            "\t\t\"heteronyms\": [\n",
            "\t\t\t{\n",
            "\t\t\t\t\"bopomofo\": \"ㄐㄧㄠˋ ㄕˋ\",\n",
            "\t\t\t\t\"bopomofo2\": \"jiàu shr̀\",\n",
            "\t\t\t\t\"definitions\": [\n",
            "\t\t\t\t\t{\n",
            "\t\t\t\t\t\t\"def\": \"學校裡進行教學活動的房間。\",\n",
            "\t\t\t\t\t\t\"example\": [\n",
            "\t\t\t\t\t\t\t\"如：「實驗教室」、「音樂教室」。\"\n",
            "\t\t\t\t\t\t],\n",
            "\t\t\t\t\t\t\"synonyms\": \"課堂,講堂\"\n",
            "\t\t\t\t\t}\n",
            "\t\t\t\t],\n",
            "\t\t\t\t\"pinyin\": \"jiào shì\"\n",
            "\t\t\t}\n",
            "\t\t],\n",
            "\t\t\"title\": \"教室\"\n",
            "\t}\n"
          ]
        }
      ]
    },
    {
      "cell_type": "code",
      "source": [
        "r.headers"
      ],
      "metadata": {
        "colab": {
          "base_uri": "https://localhost:8080/"
        },
        "id": "mNe9jVcCUQ_0",
        "outputId": "bae3fdd3-c953-42da-e0a7-1269e4368725"
      },
      "execution_count": 141,
      "outputs": [
        {
          "output_type": "execute_result",
          "data": {
            "text/plain": [
              "{'Date': 'Sat, 11 Feb 2023 07:01:28 GMT', 'Content-Type': 'application/json; charset=UTF-8', 'Transfer-Encoding': 'chunked', 'Connection': 'keep-alive', 'Last-Modified': 'Sun, 17 Feb 2013 21:20:12 GMT', 'ETag': 'W/\"5121498c-174\"', 'Access-Control-Allow-Origin': '*', 'Access-Control-Max-Age': '31536000', 'Strict-Transport-Security': 'max-age=0; preload', 'CF-Cache-Status': 'DYNAMIC', 'Report-To': '{\"endpoints\":[{\"url\":\"https:\\\\/\\\\/a.nel.cloudflare.com\\\\/report\\\\/v3?s=mreffTLcqpLAWu7pN3676iQqUm%2FDiSHWzgQ%2BMiY%2BEFukvJsIU9Ca0D3o%2BsN%2BY%2BG%2Frd1RR4TWA16mydZt6OBRFP35DJULQMBOXJkigAvj0V2QRjGQSIXVcaTEuCi3jdPk\"}],\"group\":\"cf-nel\",\"max_age\":604800}', 'NEL': '{\"success_fraction\":0,\"report_to\":\"cf-nel\",\"max_age\":604800}', 'Server': 'cloudflare', 'CF-RAY': '797b36a46e5c04ce-HKG', 'Content-Encoding': 'gzip'}"
            ]
          },
          "metadata": {},
          "execution_count": 141
        }
      ]
    },
    {
      "cell_type": "code",
      "source": [
        "data=json.loads(r.text)"
      ],
      "metadata": {
        "id": "WvuCdH5JUxQn"
      },
      "execution_count": 142,
      "outputs": []
    },
    {
      "cell_type": "code",
      "source": [
        "type(data)"
      ],
      "metadata": {
        "colab": {
          "base_uri": "https://localhost:8080/"
        },
        "id": "PkbXrD2IU7Id",
        "outputId": "6c644fad-a5d8-4b95-8bf1-8b28e96835a0"
      },
      "execution_count": 143,
      "outputs": [
        {
          "output_type": "execute_result",
          "data": {
            "text/plain": [
              "dict"
            ]
          },
          "metadata": {},
          "execution_count": 143
        }
      ]
    },
    {
      "cell_type": "code",
      "source": [
        "data"
      ],
      "metadata": {
        "colab": {
          "base_uri": "https://localhost:8080/"
        },
        "id": "EKgtb0X7U_cf",
        "outputId": "1e2012bc-a398-4b46-e76b-e119048fc9ee"
      },
      "execution_count": 147,
      "outputs": [
        {
          "output_type": "execute_result",
          "data": {
            "text/plain": [
              "{'heteronyms': [{'bopomofo': 'ㄐㄧㄠˋ ㄕˋ',\n",
              "   'bopomofo2': 'jiàu shr̀',\n",
              "   'definitions': [{'def': '學校裡進行教學活動的房間。',\n",
              "     'example': ['如：「實驗教室」、「音樂教室」。'],\n",
              "     'synonyms': '課堂,講堂'}],\n",
              "   'pinyin': 'jiào shì'}],\n",
              " 'title': '教室'}"
            ]
          },
          "metadata": {},
          "execution_count": 147
        }
      ]
    },
    {
      "cell_type": "code",
      "source": [
        "data['heteronyms']''"
      ],
      "metadata": {
        "colab": {
          "base_uri": "https://localhost:8080/"
        },
        "id": "dUXk02bGVkyR",
        "outputId": "0efce84d-1d88-423f-94dc-13e3dd39e5e5"
      },
      "execution_count": 149,
      "outputs": [
        {
          "output_type": "execute_result",
          "data": {
            "text/plain": [
              "[{'bopomofo': 'ㄐㄧㄠˋ ㄕˋ',\n",
              "  'bopomofo2': 'jiàu shr̀',\n",
              "  'definitions': [{'def': '學校裡進行教學活動的房間。',\n",
              "    'example': ['如：「實驗教室」、「音樂教室」。'],\n",
              "    'synonyms': '課堂,講堂'}],\n",
              "  'pinyin': 'jiào shì'}]"
            ]
          },
          "metadata": {},
          "execution_count": 149
        }
      ]
    },
    {
      "cell_type": "code",
      "source": [
        "type(data['heteronyms'])"
      ],
      "metadata": {
        "colab": {
          "base_uri": "https://localhost:8080/"
        },
        "id": "ElF_u2KqWjeu",
        "outputId": "fcde45e3-8225-4a59-f7c7-f5fedc70e904"
      },
      "execution_count": 153,
      "outputs": [
        {
          "output_type": "execute_result",
          "data": {
            "text/plain": [
              "list"
            ]
          },
          "metadata": {},
          "execution_count": 153
        }
      ]
    },
    {
      "cell_type": "code",
      "source": [
        "len(data['heteronyms'])"
      ],
      "metadata": {
        "colab": {
          "base_uri": "https://localhost:8080/"
        },
        "id": "6-QtcdIvW5hf",
        "outputId": "920eb3a0-dfc3-42f1-a371-88e1a73bb279"
      },
      "execution_count": 154,
      "outputs": [
        {
          "output_type": "execute_result",
          "data": {
            "text/plain": [
              "1"
            ]
          },
          "metadata": {},
          "execution_count": 154
        }
      ]
    },
    {
      "cell_type": "code",
      "source": [
        "data['heteronyms'][0]['definitions']"
      ],
      "metadata": {
        "colab": {
          "base_uri": "https://localhost:8080/"
        },
        "id": "ck641-Y4XccR",
        "outputId": "fbf58cd0-90da-44d7-b015-4800ed0c32e0"
      },
      "execution_count": 155,
      "outputs": [
        {
          "output_type": "execute_result",
          "data": {
            "text/plain": [
              "[{'def': '學校裡進行教學活動的房間。',\n",
              "  'example': ['如：「實驗教室」、「音樂教室」。'],\n",
              "  'synonyms': '課堂,講堂'}]"
            ]
          },
          "metadata": {},
          "execution_count": 155
        }
      ]
    },
    {
      "cell_type": "code",
      "source": [
        "data['heteronyms'][0]['definitions'][0]['def']"
      ],
      "metadata": {
        "colab": {
          "base_uri": "https://localhost:8080/",
          "height": 35
        },
        "id": "DGKgTn-xXpWh",
        "outputId": "d7fb15a4-fffe-48e2-af2d-b55a5076c857"
      },
      "execution_count": 156,
      "outputs": [
        {
          "output_type": "execute_result",
          "data": {
            "text/plain": [
              "'學校裡進行教學活動的房間。'"
            ],
            "application/vnd.google.colaboratory.intrinsic+json": {
              "type": "string"
            }
          },
          "metadata": {},
          "execution_count": 156
        }
      ]
    },
    {
      "cell_type": "markdown",
      "source": [
        "#方法二"
      ],
      "metadata": {
        "id": "yEqY8CABYWTW"
      }
    },
    {
      "cell_type": "code",
      "source": [
        "data=requests.get(url).json()\n",
        "#直接將抓取json資料跟剖析json資料寫在一起"
      ],
      "metadata": {
        "id": "kUB53o8KYYf3"
      },
      "execution_count": 157,
      "outputs": []
    },
    {
      "cell_type": "code",
      "source": [
        "#取得我們所需資料\n",
        "data['heteronyms'][0]['definitions'][0]['def']"
      ],
      "metadata": {
        "colab": {
          "base_uri": "https://localhost:8080/",
          "height": 35
        },
        "id": "s2wD8AqmYvSj",
        "outputId": "41f98e91-3e36-4bf2-bf14-ca1aa333f7f6"
      },
      "execution_count": 160,
      "outputs": [
        {
          "output_type": "execute_result",
          "data": {
            "text/plain": [
              "'學校裡進行教學活動的房間。'"
            ],
            "application/vnd.google.colaboratory.intrinsic+json": {
              "type": "string"
            }
          },
          "metadata": {},
          "execution_count": 160
        }
      ]
    },
    {
      "cell_type": "code",
      "source": [],
      "metadata": {
        "id": "NjX1Y_g3Y0FV"
      },
      "execution_count": null,
      "outputs": []
    },
    {
      "cell_type": "markdown",
      "source": [
        "#將方法二寫成函式來使用"
      ],
      "metadata": {
        "id": "tkGrpbG7ZnGO"
      }
    },
    {
      "cell_type": "code",
      "source": [
        "def lookup(Q):\n",
        "  url=\"https://www.moedict.tw/uni/\"+Q\n",
        "  data=requests.get(url).json()\n",
        "  return data['heteronyms'][0]['definitions'][0]['def']"
      ],
      "metadata": {
        "id": "zjzMfr_dZzjj"
      },
      "execution_count": 161,
      "outputs": []
    },
    {
      "cell_type": "code",
      "source": [
        "lookup(\"教室\")"
      ],
      "metadata": {
        "colab": {
          "base_uri": "https://localhost:8080/",
          "height": 35
        },
        "id": "HjM_5HvhaTnI",
        "outputId": "e6913416-1a37-4fd7-d5ba-d7d9a8bc3589"
      },
      "execution_count": 162,
      "outputs": [
        {
          "output_type": "execute_result",
          "data": {
            "text/plain": [
              "'學校裡進行教學活動的房間。'"
            ],
            "application/vnd.google.colaboratory.intrinsic+json": {
              "type": "string"
            }
          },
          "metadata": {},
          "execution_count": 162
        }
      ]
    },
    {
      "cell_type": "code",
      "source": [
        "lookup(\"森林\")"
      ],
      "metadata": {
        "colab": {
          "base_uri": "https://localhost:8080/",
          "height": 35
        },
        "id": "YMGM0AifaY9c",
        "outputId": "dc9f46a5-b6fb-431b-a0f5-7f33925a2191"
      },
      "execution_count": 163,
      "outputs": [
        {
          "output_type": "execute_result",
          "data": {
            "text/plain": [
              "'樹木密生的寬廣地區。'"
            ],
            "application/vnd.google.colaboratory.intrinsic+json": {
              "type": "string"
            }
          },
          "metadata": {},
          "execution_count": 163
        }
      ]
    },
    {
      "cell_type": "code",
      "source": [
        "lookup(\"水\")"
      ],
      "metadata": {
        "colab": {
          "base_uri": "https://localhost:8080/",
          "height": 35
        },
        "id": "P9-tQIG9afRW",
        "outputId": "b7afa5e2-a6ff-4366-82be-aa78bc37ffd9"
      },
      "execution_count": 167,
      "outputs": [
        {
          "output_type": "execute_result",
          "data": {
            "text/plain": [
              "'無色無臭的液體。由氫氣與氧氣化合而成。'"
            ],
            "application/vnd.google.colaboratory.intrinsic+json": {
              "type": "string"
            }
          },
          "metadata": {},
          "execution_count": 167
        }
      ]
    },
    {
      "cell_type": "markdown",
      "source": [
        "### requests.get(url).json()是啥?\n",
        "\n",
        "  底下兩個東西是一樣的\n",
        "  '''python\n",
        "\n",
        "  作法一:\n",
        "\n",
        "  import request\n",
        "  import json\n",
        "\n",
        "  r=requests.get(url)\n",
        "  data=json.loads(r.text)\n",
        "\n",
        "  作法二:\n",
        "\n",
        "  import requests\n",
        "  data=requests.get(url).json()\n",
        "\n"
      ],
      "metadata": {
        "id": "QV1iIyR4bjZQ"
      }
    },
    {
      "cell_type": "markdown",
      "source": [
        "###讀取0050成份股\n",
        "http://www.yuantaetfs.com/api/StkWeights?date=&fundid=1066"
      ],
      "metadata": {
        "id": "aR9x-V3Od0JV"
      }
    },
    {
      "cell_type": "code",
      "source": [
        "import json"
      ],
      "metadata": {
        "id": "DZgoI9WceqHv"
      },
      "execution_count": 180,
      "outputs": []
    },
    {
      "cell_type": "code",
      "source": [
        "url=\"http://www.yuantaetfs.com/api/StkWeights?date=&fundid=1066\""
      ],
      "metadata": {
        "id": "-dVru5S8evxT"
      },
      "execution_count": 181,
      "outputs": []
    },
    {
      "cell_type": "code",
      "source": [
        "data=requests.get(url).json()"
      ],
      "metadata": {
        "id": "_vEHX4GUe9SG"
      },
      "execution_count": 185,
      "outputs": []
    },
    {
      "cell_type": "code",
      "source": [
        "data[0]"
      ],
      "metadata": {
        "colab": {
          "base_uri": "https://localhost:8080/"
        },
        "id": "SOaAMktkfc3P",
        "outputId": "f748d545-9d00-4138-d815-bc7de1035895"
      },
      "execution_count": 186,
      "outputs": [
        {
          "output_type": "execute_result",
          "data": {
            "text/plain": [
              "{'code': '2330',\n",
              " 'ym': None,\n",
              " 'name': '台積電',\n",
              " 'ename': 'Taiwan Semiconductor Manufacturing Co. Ltd.',\n",
              " 'weights': 48.73,\n",
              " 'qty': 246120278.0}"
            ]
          },
          "metadata": {},
          "execution_count": 186
        }
      ]
    }
  ]
}