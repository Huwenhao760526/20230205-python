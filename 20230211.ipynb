{
  "nbformat": 4,
  "nbformat_minor": 0,
  "metadata": {
    "colab": {
      "provenance": [],
      "authorship_tag": "ABX9TyNIoB5NbUNCrXnbmWOL8MQ7",
      "include_colab_link": true
    },
    "kernelspec": {
      "name": "python3",
      "display_name": "Python 3"
    },
    "language_info": {
      "name": "python"
    }
  },
  "cells": [
    {
      "cell_type": "markdown",
      "metadata": {
        "id": "view-in-github",
        "colab_type": "text"
      },
      "source": [
        "<a href=\"https://colab.research.google.com/github/Huwenhao760526/20230205-python/blob/main/20230211.ipynb\" target=\"_parent\"><img src=\"https://colab.research.google.com/assets/colab-badge.svg\" alt=\"Open In Colab\"/></a>"
      ]
    },
    {
      "cell_type": "markdown",
      "source": [
        "# 20230211筆記"
      ],
      "metadata": {
        "id": "3Jo-41-2MYTf"
      }
    },
    {
      "cell_type": "markdown",
      "source": [
        "# 基本資料型態\n",
        " \n",
        " * int(整數)\n",
        " * float(浮點數)\n",
        " * bool(布林變數)\n",
        " * str(字串:文字訊息)\n",
        "\n",
        " 使用'type(變數)'可以檢查變數裡面的資料型態"
      ],
      "metadata": {
        "id": "WSr_-GQEUGrI"
      }
    },
    {
      "cell_type": "markdown",
      "source": [
        "# 整數除法"
      ],
      "metadata": {
        "id": "zgtzNjhUU1jx"
      }
    },
    {
      "cell_type": "code",
      "execution_count": 5,
      "metadata": {
        "id": "D25hbrx5MU2i"
      },
      "outputs": [],
      "source": [
        "X = 1"
      ]
    },
    {
      "cell_type": "code",
      "source": [
        "type(X)"
      ],
      "metadata": {
        "colab": {
          "base_uri": "https://localhost:8080/"
        },
        "id": "a92LMKwDWOgK",
        "outputId": "20a5a3b2-321c-48c2-ac16-970987180305"
      },
      "execution_count": 7,
      "outputs": [
        {
          "output_type": "execute_result",
          "data": {
            "text/plain": [
              "int"
            ]
          },
          "metadata": {},
          "execution_count": 7
        }
      ]
    },
    {
      "cell_type": "code",
      "source": [
        "Y = 4/2"
      ],
      "metadata": {
        "id": "wjlbQXKNWf0k"
      },
      "execution_count": 9,
      "outputs": []
    },
    {
      "cell_type": "code",
      "source": [
        "type(Y)"
      ],
      "metadata": {
        "colab": {
          "base_uri": "https://localhost:8080/"
        },
        "id": "Qwn5gfTuWknv",
        "outputId": "71d76c4f-22d7-4c30-d446-cd2034f4bb0a"
      },
      "execution_count": 10,
      "outputs": [
        {
          "output_type": "execute_result",
          "data": {
            "text/plain": [
              "float"
            ]
          },
          "metadata": {},
          "execution_count": 10
        }
      ]
    },
    {
      "cell_type": "code",
      "source": [
        "Z = 4//2"
      ],
      "metadata": {
        "id": "cOW2_bK8Wubr"
      },
      "execution_count": 11,
      "outputs": []
    },
    {
      "cell_type": "code",
      "source": [
        "type(Z)"
      ],
      "metadata": {
        "colab": {
          "base_uri": "https://localhost:8080/"
        },
        "id": "-uKzxb0bWytS",
        "outputId": "f2b780ac-e93a-499a-fb8b-2239c19f6674"
      },
      "execution_count": 12,
      "outputs": [
        {
          "output_type": "execute_result",
          "data": {
            "text/plain": [
              "int"
            ]
          },
          "metadata": {},
          "execution_count": 12
        }
      ]
    },
    {
      "cell_type": "markdown",
      "source": [
        "## 次方(**)\n"
      ],
      "metadata": {
        "id": "Z6qiAuiyXFw8"
      }
    },
    {
      "cell_type": "code",
      "source": [
        "2**3"
      ],
      "metadata": {
        "colab": {
          "base_uri": "https://localhost:8080/"
        },
        "id": "y2HJoxQTXPGm",
        "outputId": "1e028cec-de67-4999-c905-ff32cb615345"
      },
      "execution_count": 16,
      "outputs": [
        {
          "output_type": "execute_result",
          "data": {
            "text/plain": [
              "8"
            ]
          },
          "metadata": {},
          "execution_count": 16
        }
      ]
    },
    {
      "cell_type": "code",
      "source": [
        "2**4"
      ],
      "metadata": {
        "colab": {
          "base_uri": "https://localhost:8080/"
        },
        "id": "Dt6uWFjnXU6G",
        "outputId": "5eb04d8d-3aea-4455-de1d-43041f9c7dcb"
      },
      "execution_count": 15,
      "outputs": [
        {
          "output_type": "execute_result",
          "data": {
            "text/plain": [
              "16"
            ]
          },
          "metadata": {},
          "execution_count": 15
        }
      ]
    },
    {
      "cell_type": "markdown",
      "source": [
        "## 甚麼是bool? (Ture or False)"
      ],
      "metadata": {
        "id": "0jPh8wKNXdJ2"
      }
    },
    {
      "cell_type": "code",
      "source": [
        "3 > 2"
      ],
      "metadata": {
        "colab": {
          "base_uri": "https://localhost:8080/"
        },
        "id": "3lhnHxV3XkjM",
        "outputId": "fc57725c-872a-4728-d150-c059e78c693d"
      },
      "execution_count": 18,
      "outputs": [
        {
          "output_type": "execute_result",
          "data": {
            "text/plain": [
              "True"
            ]
          },
          "metadata": {},
          "execution_count": 18
        }
      ]
    },
    {
      "cell_type": "code",
      "source": [
        "True+True"
      ],
      "metadata": {
        "colab": {
          "base_uri": "https://localhost:8080/"
        },
        "id": "WaqdHG4dYAw1",
        "outputId": "eb8378a3-e90b-42e5-86ef-61e11357e4b0"
      },
      "execution_count": 21,
      "outputs": [
        {
          "output_type": "execute_result",
          "data": {
            "text/plain": [
              "2"
            ]
          },
          "metadata": {},
          "execution_count": 21
        }
      ]
    },
    {
      "cell_type": "code",
      "source": [
        "True + False"
      ],
      "metadata": {
        "colab": {
          "base_uri": "https://localhost:8080/"
        },
        "id": "Nc2V2c83YLXa",
        "outputId": "7a90b261-223f-45c3-f736-f832823bc272"
      },
      "execution_count": 24,
      "outputs": [
        {
          "output_type": "execute_result",
          "data": {
            "text/plain": [
              "1"
            ]
          },
          "metadata": {},
          "execution_count": 24
        }
      ]
    },
    {
      "cell_type": "code",
      "source": [
        "X==Z\n",
        "# 兩個值是否一樣"
      ],
      "metadata": {
        "colab": {
          "base_uri": "https://localhost:8080/"
        },
        "id": "g1Kdla-2Y0LX",
        "outputId": "9bf2c50e-3070-4230-d6e2-c9d13d27d09d"
      },
      "execution_count": 26,
      "outputs": [
        {
          "output_type": "execute_result",
          "data": {
            "text/plain": [
              "False"
            ]
          },
          "metadata": {},
          "execution_count": 26
        }
      ]
    },
    {
      "cell_type": "markdown",
      "source": [
        "#關於字串\n"
      ],
      "metadata": {
        "id": "8taEc_HOZE2P"
      }
    },
    {
      "cell_type": "code",
      "source": [
        "W=\"DOG\"\n",
        "#字串要加\"\""
      ],
      "metadata": {
        "id": "2HGaiDCtZIxI"
      },
      "execution_count": 30,
      "outputs": []
    },
    {
      "cell_type": "code",
      "source": [
        "U = \"It's my dog\""
      ],
      "metadata": {
        "id": "60vGr-80Zudp"
      },
      "execution_count": 32,
      "outputs": []
    },
    {
      "cell_type": "code",
      "source": [
        "V = 'It\\'s fer dog'\n",
        "# \\是跳脫字元"
      ],
      "metadata": {
        "id": "-96W9u_6aIc7"
      },
      "execution_count": 36,
      "outputs": []
    }
  ]
}